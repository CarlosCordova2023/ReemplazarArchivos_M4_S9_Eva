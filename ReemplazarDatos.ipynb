{
  "nbformat": 4,
  "nbformat_minor": 0,
  "metadata": {
    "colab": {
      "provenance": [],
      "authorship_tag": "ABX9TyMzpembMTOUFtFGPzBDbIlc",
      "include_colab_link": true
    },
    "kernelspec": {
      "name": "python3",
      "display_name": "Python 3"
    },
    "language_info": {
      "name": "python"
    }
  },
  "cells": [
    {
      "cell_type": "markdown",
      "metadata": {
        "id": "view-in-github",
        "colab_type": "text"
      },
      "source": [
        "<a href=\"https://colab.research.google.com/github/CarlosCordova2023/ReemplazarArchivos_M4_S9_Eva/blob/main/ReemplazarDatos.ipynb\" target=\"_parent\"><img src=\"https://colab.research.google.com/assets/colab-badge.svg\" alt=\"Open In Colab\"/></a>"
      ]
    },
    {
      "cell_type": "code",
      "execution_count": 3,
      "metadata": {
        "colab": {
          "base_uri": "https://localhost:8080/"
        },
        "id": "O0GbBXTMwSQ9",
        "outputId": "90abacf7-c03a-4a87-ac43-58bfdcd9bfd6"
      },
      "outputs": [
        {
          "output_type": "stream",
          "name": "stdout",
          "text": [
            "Se realizaron: 5 reemplazos\n",
            "El contenido del archivo informacion.txt es:\n",
            "Procesamiento de informaci�n en la l�nea 1\n",
            "Procesamiento de informaci�n en la l�nea 2\n",
            "Procesamiento de informaci�n en la l�nea 3\n",
            "Procesamiento de informaci�n en la l�nea 4\n",
            "Procesamiento de informaci�n en la l�nea 5\n",
            "\n",
            "Hola Mundo\n",
            "Este en una nueva l�nea en el archivo\n",
            "agregando la segunda l�nea del archivo\n",
            "finalizando la l�nea agregada\n",
            "\n"
          ]
        }
      ],
      "source": [
        "\n",
        "# Se ha reemplazado la palabra Datos\n",
        "\n",
        "def reemplazar_informacion(nombre_archivo):\n",
        "    try:\n",
        "        with open(nombre_archivo, 'r+') as archivo:\n",
        "            contenido = archivo.read()\n",
        "            reemplazos = contenido.count(\"Datos\")\n",
        "            contenido_nuevo = contenido.replace(\"Datos\", \"Procesamiento\")\n",
        "            archivo.seek(0)\n",
        "            archivo.write(contenido_nuevo)\n",
        "            archivo.truncate()\n",
        "        print(f\"Se realizaron: {reemplazos} reemplazos\")\n",
        "        print(f\"El contenido del archivo {nombre_archivo} es:\")\n",
        "        print(contenido_nuevo)\n",
        "    except FileNotFoundError:\n",
        "        print(f\"El archivo {nombre_archivo} no existe.\")\n",
        "\n",
        "def main():\n",
        "    nombre_archivo = \"informacion.txt\"\n",
        "    reemplazar_informacion(nombre_archivo)\n",
        "\n",
        "if __name__ == \"__main__\":\n",
        "    main()\n"
      ]
    }
  ]
}